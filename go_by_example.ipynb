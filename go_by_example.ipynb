{
 "cells": [
  {
   "cell_type": "markdown",
   "id": "e5b4bdd8-0f9b-4325-adf2-5da0f7c4852d",
   "metadata": {},
   "source": [
    "<h2>Go by example</h2>"
   ]
  },
  {
   "cell_type": "markdown",
   "id": "8cf00c83-9ec7-4ddf-a220-b9f468cb9575",
   "metadata": {},
   "source": [
    "notes on gobyexample.com"
   ]
  },
  {
   "cell_type": "code",
   "execution_count": null,
   "id": "f987d9ee-d6ef-41a4-9b94-fabed8c5c4ca",
   "metadata": {},
   "outputs": [],
   "source": []
  }
 ],
 "metadata": {
  "kernelspec": {
   "display_name": "Python 3 (ipykernel)",
   "language": "python",
   "name": "python3"
  },
  "language_info": {
   "codemirror_mode": {
    "name": "ipython",
    "version": 3
   },
   "file_extension": ".py",
   "mimetype": "text/x-python",
   "name": "python",
   "nbconvert_exporter": "python",
   "pygments_lexer": "ipython3",
   "version": "3.10.0"
  }
 },
 "nbformat": 4,
 "nbformat_minor": 5
}
