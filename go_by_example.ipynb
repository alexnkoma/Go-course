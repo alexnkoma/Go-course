{
 "cells": [
  {
   "cell_type": "markdown",
   "id": "e5b4bdd8-0f9b-4325-adf2-5da0f7c4852d",
   "metadata": {},
   "source": [
    "<h2>Go by example</h2>"
   ]
  },
  {
   "cell_type": "markdown",
   "id": "8cf00c83-9ec7-4ddf-a220-b9f468cb9575",
   "metadata": {},
   "source": [
    "notes on gobyexample.com DO NOT RUN!!"
   ]
  },
  {
   "cell_type": "code",
   "execution_count": null,
   "id": "f987d9ee-d6ef-41a4-9b94-fabed8c5c4ca",
   "metadata": {},
   "outputs": [],
   "source": [
    "# Hello go\n",
    "package main\n",
    "\n",
    "import \"fmt\"\n",
    "func main(){\n",
    "    fmt.Println(\"Hello go\")"
   ]
  },
  {
   "cell_type": "code",
   "execution_count": null,
   "id": "78acc798-58c8-4075-91f7-1d71e08ae3fb",
   "metadata": {},
   "outputs": [],
   "source": [
    "# values\n",
    "package main\n",
    "import 'fmt'\n",
    "func main(){\n",
    "    fmt.Println('go'+'lang')\n",
    "    \n",
    "    fmt.Println('1+1=',1+1)\n",
    "    fmt.Println(\"7.0/3.0 =\", 7.0/3.0)\n",
    "\n",
    "    fmt.Println(true && false)\n",
    "    fmt.Println(true || false)\n",
    "    fmt.Println(!true)\n",
    "}"
   ]
  },
  {
   "cell_type": "code",
   "execution_count": null,
   "id": "619066ab-1226-4bac-abfa-dad76122cce3",
   "metadata": {},
   "outputs": [],
   "source": [
    "# variable declaration\n",
    "package main\n",
    "import \"fmt\"\n",
    "func main(){\n",
    "\tvar a=\"inital\"\n",
    "\tfmt.Println(a)\n",
    "\tvar b,c int =1,2\n",
    "\tfmt.Println(b,c)\n",
    "\tvar d=true\n",
    "\tfmt.Println(d)\n",
    "\tvar e int\n",
    "\tfmt.Println(e)\n",
    "\tf:=\"apple\"\n",
    "\tfmt.Println(f)\n",
    "}"
   ]
  },
  {
   "cell_type": "code",
   "execution_count": null,
   "id": "c990b60a-661a-4da6-8dca-a71dc46e9fcf",
   "metadata": {},
   "outputs": [],
   "source": [
    "# constant declaration\n",
    "package main\n",
    "import (\n",
    "\t\"fmt\"\n",
    "\t\"math\"\n",
    ")\n",
    "const s string=\"constant\"\n",
    "func main(){\n",
    "\tfmt.Println(s)\n",
    "\tconst n = 50000000\n",
    "\tconst d= 3e20/n\n",
    "\tfmt.Println(d)\n",
    "\tfmt.Println(int64(d))\n",
    "\tfmt.Println(math.Sin(n))\n",
    "}"
   ]
  },
  {
   "cell_type": "code",
   "execution_count": null,
   "id": "5b001bec-97cf-4bd8-9093-f78fc10a999f",
   "metadata": {},
   "outputs": [],
   "source": [
    "# for loops\n",
    "package main\n",
    "import \"fmt\"\n",
    "func main(){\n",
    "    i:=1\n",
    "    for i<=3{\n",
    "        fmt.Println(i)\n",
    "        i=i+1\n",
    "    }\n",
    "    for j:=7; j<=9; j++{\n",
    "        fmt.Println(j)\n",
    "    }\n",
    "    for {\n",
    "        fmt.Println(\"loop\")\n",
    "        break\n",
    "    }\n",
    "    for n:=0; n<=5; n++{\n",
    "        if n%2==0 {\n",
    "            continue\n",
    "        }\n",
    "        fmt.Println(n)\n",
    "    }\n",
    "}\n"
   ]
  }
 ],
 "metadata": {
  "kernelspec": {
   "display_name": "Python 3 (ipykernel)",
   "language": "python",
   "name": "python3"
  },
  "language_info": {
   "codemirror_mode": {
    "name": "ipython",
    "version": 3
   },
   "file_extension": ".py",
   "mimetype": "text/x-python",
   "name": "python",
   "nbconvert_exporter": "python",
   "pygments_lexer": "ipython3",
   "version": "3.10.0"
  }
 },
 "nbformat": 4,
 "nbformat_minor": 5
}
